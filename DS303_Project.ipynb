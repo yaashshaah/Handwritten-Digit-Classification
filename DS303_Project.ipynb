{
  "nbformat": 4,
  "nbformat_minor": 0,
  "metadata": {
    "colab": {
      "name": "DS303-Project.ipynb",
      "provenance": [],
      "collapsed_sections": []
    },
    "kernelspec": {
      "name": "python3",
      "display_name": "Python 3"
    },
    "language_info": {
      "name": "python"
    }
  },
  "cells": [
    {
      "cell_type": "code",
      "metadata": {
        "id": "DABImCN9bYQe",
        "colab": {
          "base_uri": "https://localhost:8080/"
        },
        "outputId": "4c9ce722-ea2f-4953-f1e1-706ae30de9a7"
      },
      "source": [
        "from google.colab import drive\n",
        "drive.mount('/content/drive')"
      ],
      "execution_count": null,
      "outputs": [
        {
          "output_type": "stream",
          "text": [
            "Mounted at /content/drive\n"
          ],
          "name": "stdout"
        }
      ]
    },
    {
      "cell_type": "markdown",
      "metadata": {
        "id": "neVLyVyuyYUy"
      },
      "source": [
        "<center><h1><b> DS303 Course Project </b></h1> </center>\n",
        "<center> Spring Semester 2021, Under Prof. Biplab Banarjee </center>"
      ]
    },
    {
      "cell_type": "markdown",
      "metadata": {
        "id": "gfl4FtJeRzWm"
      },
      "source": [
        "Group members:\n",
        "\n",
        "\n",
        "*   Sanket Ghyar - 190110023 - Metallurgical Engineering and Materials Science, 2nd Year\n",
        "*   Arif Ahmad - 190110010 - Electrical Engineering, BTech 2nd Year\n",
        "*   Naresh Balamurgan - 190110051 - Metallurgical Engineering and Materials Science, 2nd Year\n",
        "*   Yash Shah - 190020136 - Chemical Engineering, BTech 2nd Year\n",
        "\n",
        "\n",
        "\n"
      ]
    },
    {
      "cell_type": "markdown",
      "metadata": {
        "id": "bjsYrSakxy27"
      },
      "source": [
        "<h2>Importing required Libraries </h2>"
      ]
    },
    {
      "cell_type": "code",
      "metadata": {
        "id": "BEd1F5qT1s1k"
      },
      "source": [
        "import numpy as np\n",
        "import pandas as pd\n",
        "import matplotlib.pyplot as plt\n",
        "import cv2\n"
      ],
      "execution_count": null,
      "outputs": []
    },
    {
      "cell_type": "code",
      "metadata": {
        "id": "WclzTlip2Tmd"
      },
      "source": [
        "import tensorflow as tf\n",
        "import tensorflow_datasets as tfds\n",
        "\n",
        "from keras.datasets import mnist\n",
        "from keras.models import Sequential, load_model\n",
        "from keras.layers.core import Dense, Dropout, Activation\n",
        "from tensorflow.keras.layers import Flatten,Conv2D, MaxPooling2D\n",
        "from keras.utils import np_utils"
      ],
      "execution_count": null,
      "outputs": []
    },
    {
      "cell_type": "code",
      "metadata": {
        "id": "OR7tGNhY_NmP"
      },
      "source": [
        ""
      ],
      "execution_count": null,
      "outputs": []
    },
    {
      "cell_type": "markdown",
      "metadata": {
        "id": "_QspCq62zgAa"
      },
      "source": [
        "<h3><b>We have used multiple machine learning methods like Neural Networks, Convolutional Neural Networks and SVM to train a machine learning model on the MNIST dataset; capable of classifying digits.</b></h3>"
      ]
    },
    {
      "cell_type": "markdown",
      "metadata": {
        "id": "PN2pAJrolQed"
      },
      "source": [
        "\n",
        "\n",
        "<h1><b>1. Classification using Neural Network</b></h1>"
      ]
    },
    {
      "cell_type": "markdown",
      "metadata": {
        "id": "T0F2YGFbyAMK"
      },
      "source": [
        "<h4>Loading Data from keras library and analyzing it</h4>"
      ]
    },
    {
      "cell_type": "code",
      "metadata": {
        "id": "TIGNWKPO5aPU"
      },
      "source": [
        "(X_train, y_train), (X_test, y_test) = mnist.load_data() "
      ],
      "execution_count": null,
      "outputs": []
    },
    {
      "cell_type": "code",
      "metadata": {
        "colab": {
          "base_uri": "https://localhost:8080/"
        },
        "id": "3DLNzuVs6Y8n",
        "outputId": "0175ac97-7e2c-40ad-9d5b-ab551b1b9698"
      },
      "source": [
        "print(f\"Size of training data set is: {X_train.shape}\")\n",
        "print(f\"Size of test data set is: {X_test.shape}\")\n",
        "print(f\"Size of training labels' set is: {y_train.shape}\")\n",
        "print(f\"Size of test labels' set is: {y_test.shape}\")"
      ],
      "execution_count": null,
      "outputs": [
        {
          "output_type": "stream",
          "text": [
            "Size of training data set is: (60000, 28, 28)\n",
            "Size of test data set is: (10000, 28, 28)\n",
            "Size of training labels' set is: (60000,)\n",
            "Size of test labels' set is: (10000,)\n"
          ],
          "name": "stdout"
        }
      ]
    },
    {
      "cell_type": "code",
      "metadata": {
        "colab": {
          "base_uri": "https://localhost:8080/"
        },
        "id": "jrNbVQ976ltw",
        "outputId": "a1e0cfbb-a117-4238-cfdd-e15d51692c81"
      },
      "source": [
        "print(y_train)\n",
        "print('As can be seen above the labels of the data set are not one-hot encoded and carry the labels as the numbers they represnt.')"
      ],
      "execution_count": null,
      "outputs": [
        {
          "output_type": "stream",
          "text": [
            "[5 0 4 ... 5 6 8]\n",
            "As can be seen above the labels of the data set are not one-hot encoded and carry the labels as the numbers they represnt.\n"
          ],
          "name": "stdout"
        }
      ]
    },
    {
      "cell_type": "code",
      "metadata": {
        "colab": {
          "base_uri": "https://localhost:8080/",
          "height": 284
        },
        "id": "e5gqv8Qa6xQ9",
        "outputId": "61e820dc-64af-4bc5-fb47-91ac2a39190d"
      },
      "source": [
        "#Plotting the first few digits in dataset as image\n",
        "fig = plt.figure()\n",
        "for i in range(16):\n",
        "  plt.subplot(4,4,i+1)\n",
        "  plt.tight_layout()\n",
        "  plt.imshow(X_train[i], cmap='gray', interpolation='none')\n",
        "  plt.title(f\"Digit: {y_train[i]}\")\n",
        "  plt.xticks([])\n",
        "  plt.yticks([])"
      ],
      "execution_count": null,
      "outputs": [
        {
          "output_type": "display_data",
          "data": {
            "image/png": "[encoded data removed]",
            "text/plain": [
              "<Figure size 432x288 with 16 Axes>"
            ]
          },
          "metadata": {
            "tags": []
          }
        }
      ]
    },
    {
      "cell_type": "markdown",
      "metadata": {
        "id": "5wkR3PtZmHYJ"
      },
      "source": [
        "<h3><b>Pixel Distribution and Data Normalization</b></h3>"
      ]
    },
    {
      "cell_type": "code",
      "metadata": {
        "colab": {
          "base_uri": "https://localhost:8080/",
          "height": 299
        },
        "id": "w3WU1Yvbl_31",
        "outputId": "5042bc17-915d-4d3f-944b-cc6381e659c3"
      },
      "source": [
        "plt.hist(X_train[0])\n",
        "plt.title(\"Pixel Value Distribution\")"
      ],
      "execution_count": null,
      "outputs": [
        {
          "output_type": "execute_result",
          "data": {
            "text/plain": [
              "Text(0.5, 1.0, 'Pixel Value Distribution')"
            ]
          },
          "metadata": {
            "tags": []
          },
          "execution_count": 9
        },
        {
          "output_type": "display_data",
          "data": {
            "image/png": "[encoded data removed]",
            "text/plain": [
              "<Figure size 432x288 with 1 Axes>"
            ]
          },
          "metadata": {
            "tags": [],
            "needs_background": "light"
          }
        }
      ]
    },
    {
      "cell_type": "markdown",
      "metadata": {
        "id": "cMXK86HUoCOp"
      },
      "source": [
        "As we can see in the above plot; the pixel values range between 0 and 255 in the 28x28 image. We can normalize the pixel values to lie between 0 and 1, to help spped up training."
      ]
    },
    {
      "cell_type": "markdown",
      "metadata": {
        "id": "RKmbTfe1pGmM"
      },
      "source": [
        "<h3><b> Normalizing data </b> </h3>"
      ]
    },
    {
      "cell_type": "markdown",
      "metadata": {
        "id": "gJAy7zWnp1Lk"
      },
      "source": [
        "We will also reshape the 28x28 image input to a 784 sized input feature vector."
      ]
    },
    {
      "cell_type": "code",
      "metadata": {
        "id": "24Jz0nwFpFbz"
      },
      "source": [
        "#reshaping the data feature size from 28x28 to single vector of size 784\n",
        "X_train = X_train.reshape(60000,784)\n",
        "X_test = X_test.reshape(10000,784)\n",
        "X_train = X_train.astype('float32')\n",
        "X_test = X_test.astype('float32')\n",
        "\n",
        "#Normalizing Data\n",
        "X_train /= 255\n",
        "X_test /= 255"
      ],
      "execution_count": null,
      "outputs": []
    },
    {
      "cell_type": "code",
      "metadata": {
        "colab": {
          "base_uri": "https://localhost:8080/"
        },
        "id": "iYnSs53orN6R",
        "outputId": "ce8d6ff5-77d6-4b1f-a4a4-89b64eeca124"
      },
      "source": [
        "#Printing final input shape ready for training\n",
        "print(f'Train Matrix Shape: {X_train.shape}')\n",
        "print(f'Test Matrix Shape: {X_test.shape}')"
      ],
      "execution_count": null,
      "outputs": [
        {
          "output_type": "stream",
          "text": [
            "Train Matrix Shape: (60000, 784)\n",
            "Test Matrix Shape: (10000, 784)\n"
          ],
          "name": "stdout"
        }
      ]
    },
    {
      "cell_type": "markdown",
      "metadata": {
        "id": "991SnCx0r3U6"
      },
      "source": [
        "<h3><b>One hot encoding the labels</b></h3>"
      ]
    },
    {
      "cell_type": "markdown",
      "metadata": {
        "id": "4kR5dgvgsAkA"
      },
      "source": [
        "As can be seen below the labels are from the set {0,1,2,3,..8,9} in both the training and test data sets, however it would be desirable to have one hot encoded labels for ease of interpretation of the output produced after an input runs through the neural network as well as for training the model."
      ]
    },
    {
      "cell_type": "code",
      "metadata": {
        "colab": {
          "base_uri": "https://localhost:8080/"
        },
        "id": "uK4nMzwVtBdj",
        "outputId": "c486ebd6-370d-4528-ef71-720fad938946"
      },
      "source": [
        "#Priniting unique values in y_train and y_test and their counts\n",
        "print(np.unique(y_train, return_counts=True))\n",
        "print(np.unique(y_test, return_counts=True))"
      ],
      "execution_count": null,
      "outputs": [
        {
          "output_type": "stream",
          "text": [
            "(array([0, 1, 2, 3, 4, 5, 6, 7, 8, 9], dtype=uint8), array([5923, 6742, 5958, 6131, 5842, 5421, 5918, 6265, 5851, 5949]))\n",
            "(array([0, 1, 2, 3, 4, 5, 6, 7, 8, 9], dtype=uint8), array([ 980, 1135, 1032, 1010,  982,  892,  958, 1028,  974, 1009]))\n"
          ],
          "name": "stdout"
        }
      ]
    },
    {
      "cell_type": "code",
      "metadata": {
        "colab": {
          "base_uri": "https://localhost:8080/"
        },
        "id": "BHcT1BfutqBU",
        "outputId": "f9061500-41bd-40a9-d4ff-9d147c53030e"
      },
      "source": [
        "#one-hot encoding using numpy\n",
        "n_classes = 10\n",
        "print(f'Shape before one hot encoding: {y_train.shape}')\n",
        "Y_train = np_utils.to_categorical(y_train, n_classes)\n",
        "Y_test = np_utils.to_categorical(y_test, n_classes)\n",
        "print(f'Shape after one hot encoding: {Y_train.shape}')"
      ],
      "execution_count": null,
      "outputs": [
        {
          "output_type": "stream",
          "text": [
            "Shape before one hot encoding: (60000,)\n",
            "Shape after one hot encoding: (60000, 10)\n"
          ],
          "name": "stdout"
        }
      ]
    },
    {
      "cell_type": "markdown",
      "metadata": {
        "id": "W-9pyEkOluFI"
      },
      "source": [
        "<br>\n",
        "\n"
      ]
    },
    {
      "cell_type": "markdown",
      "metadata": {
        "id": "cEAiXOObxq6a"
      },
      "source": [
        "\n",
        "<h1><b>Building the Neural Network</b></h1>"
      ]
    },
    {
      "cell_type": "markdown",
      "metadata": {
        "id": "1V6mklTYzr58"
      },
      "source": [
        "We will be building a neural network with two hidden 512-node layers. And for multi-class classification we add another densely connected layer for the 10 output classes. The input vector is of size 784. We will be using the softmax activation function in the last layer for connections to the 10 class nodes. Softmax activation function is used as it is common to use softmax activation for training in multi-class classification.\n",
        "\n",
        "We will be using the ReLU activation function in the hidden layers."
      ]
    },
    {
      "cell_type": "code",
      "metadata": {
        "id": "xleSQXz9xrYa"
      },
      "source": [
        "#building a linear stack of layers using Sequential Model in Keras\n",
        "\n",
        "model = Sequential()\n",
        "\n",
        "#Adding first Hidden Layer\n",
        "model.add(Dense(512, input_shape=(784,)))\n",
        "model.add(Activation('relu'))\n",
        "model.add(Dropout(0.2))\n",
        "\n",
        "#Adding Second Hidden Layer\n",
        "model.add(Dense(512))\n",
        "model.add(Activation('relu'))\n",
        "model.add(Dropout(0.2))\n",
        "\n",
        "#Softmax Classification Layer\n",
        "model.add(Dense(10))\n",
        "model.add(Activation('softmax'))"
      ],
      "execution_count": null,
      "outputs": []
    },
    {
      "cell_type": "markdown",
      "metadata": {
        "id": "ngHPcOyGampv"
      },
      "source": [
        "<h3><b> Summary Of model </h3>"
      ]
    },
    {
      "cell_type": "code",
      "metadata": {
        "colab": {
          "base_uri": "https://localhost:8080/"
        },
        "id": "xKjvk59yaf0V",
        "outputId": "81e321c8-4cf3-4105-b62e-c1e509475582"
      },
      "source": [
        "#Summary of model\n",
        "model.summary()"
      ],
      "execution_count": null,
      "outputs": [
        {
          "output_type": "stream",
          "text": [
            "Model: \"sequential\"\n",
            "_________________________________________________________________\n",
            "Layer (type)                 Output Shape              Param #   \n",
            "=================================================================\n",
            "dense (Dense)                (None, 512)               401920    \n",
            "_________________________________________________________________\n",
            "activation (Activation)      (None, 512)               0         \n",
            "_________________________________________________________________\n",
            "dropout (Dropout)            (None, 512)               0         \n",
            "_________________________________________________________________\n",
            "dense_1 (Dense)              (None, 512)               262656    \n",
            "_________________________________________________________________\n",
            "activation_1 (Activation)    (None, 512)               0         \n",
            "_________________________________________________________________\n",
            "dropout_1 (Dropout)          (None, 512)               0         \n",
            "_________________________________________________________________\n",
            "dense_2 (Dense)              (None, 10)                5130      \n",
            "_________________________________________________________________\n",
            "activation_2 (Activation)    (None, 10)                0         \n",
            "=================================================================\n",
            "Total params: 669,706\n",
            "Trainable params: 669,706\n",
            "Non-trainable params: 0\n",
            "_________________________________________________________________\n"
          ],
          "name": "stdout"
        }
      ]
    },
    {
      "cell_type": "markdown",
      "metadata": {
        "id": "vA6TF24mafQk"
      },
      "source": [
        ""
      ]
    },
    {
      "cell_type": "markdown",
      "metadata": {
        "id": "_SOujjJn9zzd"
      },
      "source": [
        "<h2><b>Training the model</b></h2>"
      ]
    },
    {
      "cell_type": "markdown",
      "metadata": {
        "id": "31uuawuJ-WWx"
      },
      "source": [
        "Categorical Cross Entropy will be used as a loss function for optimizing model parameters. And we are using Stochastic Gradient Descent (SGD) for optimization."
      ]
    },
    {
      "cell_type": "markdown",
      "metadata": {
        "id": "8zl5OkNKg-WB"
      },
      "source": [
        "Compiling"
      ]
    },
    {
      "cell_type": "code",
      "metadata": {
        "id": "QfJ1NnSq9f2b"
      },
      "source": [
        "#Compiling the Sequential Model\n",
        "model.compile(loss='categorical_crossentropy', metrics=['accuracy'], optimizer='SGD')"
      ],
      "execution_count": null,
      "outputs": []
    },
    {
      "cell_type": "markdown",
      "metadata": {
        "id": "d0iY3K_SBS6p"
      },
      "source": [
        "Training"
      ]
    },
    {
      "cell_type": "code",
      "metadata": {
        "id": "NRxdHsYX9Hvp",
        "colab": {
          "base_uri": "https://localhost:8080/"
        },
        "outputId": "a89fbc61-be39-4186-c97b-d5dcf9733ede"
      },
      "source": [
        "#training the model and saving the metrics in saved_model\n",
        "\n",
        "saved_model = model.fit(X_train, Y_train, batch_size=128, epochs=20, verbose=2, validation_data=(X_test, Y_test))"
      ],
      "execution_count": null,
      "outputs": [
        {
          "output_type": "stream",
          "text": [
            "Epoch 1/20\n",
            "469/469 - 5s - loss: 1.2076 - accuracy: 0.6876 - val_loss: 0.5346 - val_accuracy: 0.8699\n",
            "Epoch 2/20\n",
            "469/469 - 4s - loss: 0.5321 - accuracy: 0.8491 - val_loss: 0.3744 - val_accuracy: 0.8985\n",
            "Epoch 3/20\n",
            "469/469 - 5s - loss: 0.4255 - accuracy: 0.8774 - val_loss: 0.3229 - val_accuracy: 0.9080\n",
            "Epoch 4/20\n",
            "469/469 - 5s - loss: 0.3790 - accuracy: 0.8895 - val_loss: 0.2932 - val_accuracy: 0.9172\n",
            "Epoch 5/20\n",
            "469/469 - 5s - loss: 0.3445 - accuracy: 0.8995 - val_loss: 0.2698 - val_accuracy: 0.9242\n",
            "Epoch 6/20\n",
            "469/469 - 4s - loss: 0.3188 - accuracy: 0.9079 - val_loss: 0.2523 - val_accuracy: 0.9275\n",
            "Epoch 7/20\n",
            "469/469 - 5s - loss: 0.2989 - accuracy: 0.9130 - val_loss: 0.2386 - val_accuracy: 0.9326\n",
            "Epoch 8/20\n",
            "469/469 - 4s - loss: 0.2804 - accuracy: 0.9185 - val_loss: 0.2254 - val_accuracy: 0.9357\n",
            "Epoch 9/20\n",
            "469/469 - 5s - loss: 0.2675 - accuracy: 0.9222 - val_loss: 0.2146 - val_accuracy: 0.9396\n",
            "Epoch 10/20\n",
            "469/469 - 5s - loss: 0.2545 - accuracy: 0.9269 - val_loss: 0.2043 - val_accuracy: 0.9421\n",
            "Epoch 11/20\n",
            "469/469 - 5s - loss: 0.2428 - accuracy: 0.9297 - val_loss: 0.1962 - val_accuracy: 0.9433\n",
            "Epoch 12/20\n",
            "469/469 - 4s - loss: 0.2348 - accuracy: 0.9325 - val_loss: 0.1871 - val_accuracy: 0.9460\n",
            "Epoch 13/20\n",
            "469/469 - 4s - loss: 0.2242 - accuracy: 0.9340 - val_loss: 0.1806 - val_accuracy: 0.9476\n",
            "Epoch 14/20\n",
            "469/469 - 4s - loss: 0.2131 - accuracy: 0.9390 - val_loss: 0.1735 - val_accuracy: 0.9485\n",
            "Epoch 15/20\n",
            "469/469 - 4s - loss: 0.2054 - accuracy: 0.9409 - val_loss: 0.1665 - val_accuracy: 0.9506\n",
            "Epoch 16/20\n",
            "469/469 - 5s - loss: 0.1991 - accuracy: 0.9427 - val_loss: 0.1612 - val_accuracy: 0.9537\n",
            "Epoch 17/20\n",
            "469/469 - 5s - loss: 0.1913 - accuracy: 0.9450 - val_loss: 0.1559 - val_accuracy: 0.9548\n",
            "Epoch 18/20\n",
            "469/469 - 5s - loss: 0.1847 - accuracy: 0.9466 - val_loss: 0.1514 - val_accuracy: 0.9558\n",
            "Epoch 19/20\n",
            "469/469 - 4s - loss: 0.1787 - accuracy: 0.9479 - val_loss: 0.1462 - val_accuracy: 0.9573\n",
            "Epoch 20/20\n",
            "469/469 - 5s - loss: 0.1750 - accuracy: 0.9486 - val_loss: 0.1426 - val_accuracy: 0.9580\n"
          ],
          "name": "stdout"
        }
      ]
    },
    {
      "cell_type": "markdown",
      "metadata": {
        "id": "7Qjn6DseG8L4"
      },
      "source": [
        "<h3><b>Plotting the metrics</b></h3>"
      ]
    },
    {
      "cell_type": "code",
      "metadata": {
        "colab": {
          "base_uri": "https://localhost:8080/",
          "height": 297
        },
        "id": "w3eiBJQUCfo-",
        "outputId": "d5c6ec83-6c20-407a-d59c-9f5cbbd32ded"
      },
      "source": [
        "fig = plt.figure()\n",
        "\n",
        "plt.subplot(2,1,1)\n",
        "plt.plot(saved_model.history['accuracy'])\n",
        "plt.plot(saved_model.history['val_accuracy'])\n",
        "plt.title('model accuracy')\n",
        "plt.ylabel('accuracy')\n",
        "plt.xlabel('epoch')\n",
        "plt.legend(['train','test'], loc='lower right')\n",
        "\n",
        "plt.subplot(2,1,2)\n",
        "plt.plot(saved_model.history['loss'])\n",
        "plt.plot(saved_model.history['val_loss'])\n",
        "plt.title('model loss')\n",
        "plt.ylabel('loss')\n",
        "plt.xlabel('epoch')\n",
        "plt.legend(['train', 'test'], loc='upper right')\n",
        "\n",
        "plt.tight_layout()"
      ],
      "execution_count": null,
      "outputs": [
        {
          "output_type": "display_data",
          "data": {
            "image/png": "[encoded data removed]",
            "text/plain": [
              "<Figure size 432x288 with 2 Axes>"
            ]
          },
          "metadata": {
            "tags": [],
            "needs_background": "light"
          }
        }
      ]
    },
    {
      "cell_type": "markdown",
      "metadata": {
        "id": "TZtPjICOJnSv"
      },
      "source": [
        "<h1> <b> Evaluating Model Perormance </b> </h1>"
      ]
    },
    {
      "cell_type": "code",
      "metadata": {
        "colab": {
          "base_uri": "https://localhost:8080/"
        },
        "id": "HNvGs8ZGHYcP",
        "outputId": "d0c47db5-fb82-4aa3-efd4-2e5613c17bb7"
      },
      "source": [
        "loss_and_metrics = model.evaluate(X_test, Y_test, verbose=2)"
      ],
      "execution_count": null,
      "outputs": [
        {
          "output_type": "stream",
          "text": [
            "313/313 - 1s - loss: 0.1426 - accuracy: 0.9580\n"
          ],
          "name": "stdout"
        }
      ]
    },
    {
      "cell_type": "code",
      "metadata": {
        "colab": {
          "base_uri": "https://localhost:8080/"
        },
        "id": "1kI9YDvoHt-G",
        "outputId": "62fba8bf-ee78-43d6-98c5-2b43d2877d0a"
      },
      "source": [
        "print(f'Test loss: {loss_and_metrics[0]}')\n",
        "print(f'Test Accuracy: {loss_and_metrics[1]}')"
      ],
      "execution_count": null,
      "outputs": [
        {
          "output_type": "stream",
          "text": [
            "Test loss: 0.1426311731338501\n",
            "Test Accuracy: 0.9580000042915344\n"
          ],
          "name": "stdout"
        }
      ]
    },
    {
      "cell_type": "markdown",
      "metadata": {
        "id": "aK8VPD2gS0iS"
      },
      "source": [
        "Below we check the exact numbers of correctly classified and missclafied samples from the test data set. We also see in picture which samples are misclassified and find that the miss classified samples do have some inherent ambiguity in which number they represent due to unclear strokes."
      ]
    },
    {
      "cell_type": "code",
      "metadata": {
        "colab": {
          "base_uri": "https://localhost:8080/",
          "height": 918
        },
        "id": "EsEpm8ybRtkM",
        "outputId": "c68e0e19-9d7e-4a8c-922b-856d3432440c"
      },
      "source": [
        "# load the model and create predictions on the test set\n",
        "predicted_classes = model.predict_classes(X_test)\n",
        "\n",
        "# see which we predicted correctly and which not\n",
        "correct_indices = np.nonzero(predicted_classes == y_test)[0]\n",
        "incorrect_indices = np.nonzero(predicted_classes != y_test)[0]\n",
        "print()\n",
        "print(len(correct_indices),\" classified correctly\")\n",
        "print(len(incorrect_indices),\" classified incorrectly\")\n",
        "\n",
        "# adapt figure size to accomodate 18 subplots\n",
        "plt.rcParams['figure.figsize'] = (7,14)\n",
        "\n",
        "figure_evaluation = plt.figure()\n",
        "\n",
        "# plot 9 correct predictions\n",
        "for i, correct in enumerate(correct_indices[:9]):\n",
        "    plt.subplot(6,3,i+1)\n",
        "    plt.imshow(X_test[correct].reshape(28,28), cmap='gray', interpolation='none')\n",
        "    plt.title(\n",
        "      \"Predicted: {}, Truth: {}\".format(predicted_classes[correct],\n",
        "                                        y_test[correct]))\n",
        "    plt.xticks([])\n",
        "    plt.yticks([])\n",
        "\n",
        "# plot 9 incorrect predictions\n",
        "for i, incorrect in enumerate(incorrect_indices[:9]):\n",
        "    plt.subplot(6,3,i+10)\n",
        "    plt.imshow(X_test[incorrect].reshape(28,28), cmap='gray', interpolation='none')\n",
        "    plt.title(\n",
        "      \"Predicted {}, Truth: {}\".format(predicted_classes[incorrect], \n",
        "                                       y_test[incorrect]))\n",
        "    plt.xticks([])\n",
        "    plt.yticks([])"
      ],
      "execution_count": null,
      "outputs": [
        {
          "output_type": "stream",
          "text": [
            "/usr/local/lib/python3.7/dist-packages/tensorflow/python/keras/engine/sequential.py:450: UserWarning: `model.predict_classes()` is deprecated and will be removed after 2021-01-01. Please use instead:* `np.argmax(model.predict(x), axis=-1)`,   if your model does multi-class classification   (e.g. if it uses a `softmax` last-layer activation).* `(model.predict(x) > 0.5).astype(\"int32\")`,   if your model does binary classification   (e.g. if it uses a `sigmoid` last-layer activation).\n",
            "  warnings.warn('`model.predict_classes()` is deprecated and '\n"
          ],
          "name": "stderr"
        },
        {
          "output_type": "stream",
          "text": [
            "\n",
            "9580  classified correctly\n",
            "420  classified incorrectly\n"
          ],
          "name": "stdout"
        },
        {
          "output_type": "display_data",
          "data": {
            "image/png": "[encoded data removed]",
            "text/plain": [
              "<Figure size 504x1008 with 18 Axes>"
            ]
          },
          "metadata": {
            "tags": []
          }
        }
      ]
    },
    {
      "cell_type": "markdown",
      "metadata": {
        "id": "8pKUUhYqTkjC"
      },
      "source": [
        "<br><br><br>\n",
        "<h1><b>2. Classification using Convolutional Neural Network</b></h1>"
      ]
    },
    {
      "cell_type": "markdown",
      "metadata": {
        "id": "5SgtlRLlUGbR"
      },
      "source": [
        "Now, we try to do the same classification using a more advanced method - Convolutional Neural Networks, and try to guage any advantages or disadvantages in the same.\n",
        "\n"
      ]
    },
    {
      "cell_type": "markdown",
      "metadata": {
        "id": "pgmWcLEyVvkB"
      },
      "source": [
        "As we have already pre-processed the data; we just need to create the model using CNN now, train it, test it, and see its performance and accuracy"
      ]
    },
    {
      "cell_type": "code",
      "metadata": {
        "id": "tHHP3nQcdbAt"
      },
      "source": [
        "(X_train, y_train), (X_test, y_test) = mnist.load_data()"
      ],
      "execution_count": null,
      "outputs": []
    },
    {
      "cell_type": "markdown",
      "metadata": {
        "id": "iiZ4Y6wrdoTL"
      },
      "source": [
        "### Normalizing the data"
      ]
    },
    {
      "cell_type": "code",
      "metadata": {
        "id": "FG5hlUJ6de1J"
      },
      "source": [
        "X_train = tf.keras.utils.normalize(X_train, axis = 1)\n",
        "X_test = tf.keras.utils.normalize(X_test, axis = 1)"
      ],
      "execution_count": null,
      "outputs": []
    },
    {
      "cell_type": "markdown",
      "metadata": {
        "id": "zgk0YS0meELl"
      },
      "source": [
        "### Resizing image for Convolutional layer"
      ]
    },
    {
      "cell_type": "code",
      "metadata": {
        "colab": {
          "base_uri": "https://localhost:8080/"
        },
        "id": "HamBHuwLeFaK",
        "outputId": "ed93b496-1d53-4176-c327-b6acab097db2"
      },
      "source": [
        "img_size = 28\n",
        "X_trainr = np.array(X_train).reshape(-1, img_size, img_size, 1)\n",
        "X_testr = np.array(X_test).reshape(-1, img_size, img_size, 1)\n",
        "print('Training images dimensions', X_trainr.shape)\n",
        "print('Testing images dimensions', X_testr.shape)\n",
        "print(len(X_trainr))"
      ],
      "execution_count": null,
      "outputs": [
        {
          "output_type": "stream",
          "text": [
            "Training images dimensions (60000, 28, 28, 1)\n",
            "Testing images dimensions (10000, 28, 28, 1)\n",
            "60000\n"
          ],
          "name": "stdout"
        }
      ]
    },
    {
      "cell_type": "markdown",
      "metadata": {
        "id": "Ib1Or_MHaLlW"
      },
      "source": [
        "\n",
        "<h1><b>Building the Convolutional Neural Network</b></h1>"
      ]
    },
    {
      "cell_type": "markdown",
      "metadata": {
        "id": "tf2McVwoejkF"
      },
      "source": [
        "In building this Convolutional Neural Network, we have used three CNN layers; each consisting of 64 layers and a 3x3 kernel densely connected and used a softmax layer at the end for multiclass classification."
      ]
    },
    {
      "cell_type": "code",
      "metadata": {
        "id": "WueISB0DShkY"
      },
      "source": [
        "model = Sequential()"
      ],
      "execution_count": null,
      "outputs": []
    },
    {
      "cell_type": "markdown",
      "metadata": {
        "id": "iK8-XWjNazQe"
      },
      "source": [
        "#### Convolutional Layer 1"
      ]
    },
    {
      "cell_type": "code",
      "metadata": {
        "id": "EayBW4knayTF"
      },
      "source": [
        "model.add(Conv2D(64,(3,3), input_shape = X_trainr.shape[1:]))\n",
        "model.add(Activation(\"relu\"))\n",
        "model.add(Dropout(0.2))\n",
        "model.add(MaxPooling2D(pool_size=(2,2)))"
      ],
      "execution_count": null,
      "outputs": []
    },
    {
      "cell_type": "markdown",
      "metadata": {
        "id": "m5yj5P9MeWCe"
      },
      "source": [
        "#### Convolutional Layer 2"
      ]
    },
    {
      "cell_type": "code",
      "metadata": {
        "id": "38sm8sDFa5q_"
      },
      "source": [
        "model.add(Conv2D(64,(3,3), input_shape = X_trainr.shape[1:]))\n",
        "model.add(Activation(\"relu\"))\n",
        "model.add(Dropout(0.2))\n",
        "model.add(MaxPooling2D(pool_size=(2,2)))"
      ],
      "execution_count": null,
      "outputs": []
    },
    {
      "cell_type": "markdown",
      "metadata": {
        "id": "k67JjvaGfMIh"
      },
      "source": [
        "#### Convolutional Layer 3"
      ]
    },
    {
      "cell_type": "code",
      "metadata": {
        "id": "GYL8c-p0efLp"
      },
      "source": [
        "model.add(Conv2D(64,(3,3), input_shape = X_trainr.shape[1:]))\n",
        "model.add(Activation(\"relu\"))\n",
        "model.add(Dropout(0.2))\n",
        "model.add(MaxPooling2D(pool_size=(2,2)))"
      ],
      "execution_count": null,
      "outputs": []
    },
    {
      "cell_type": "markdown",
      "metadata": {
        "id": "wjDWL9aOfTaW"
      },
      "source": [
        "#### Fully Connected Layer 1"
      ]
    },
    {
      "cell_type": "code",
      "metadata": {
        "id": "H7lfqfqAfKcm"
      },
      "source": [
        "model.add(Flatten())\n",
        "model.add(Dense(64))\n",
        "model.add(Activation('relu'))"
      ],
      "execution_count": null,
      "outputs": []
    },
    {
      "cell_type": "markdown",
      "metadata": {
        "id": "fSbo-VS1fcMf"
      },
      "source": [
        "#### Fully Connected Layer 2"
      ]
    },
    {
      "cell_type": "code",
      "metadata": {
        "id": "uu4jhExMfY2u"
      },
      "source": [
        "model.add(Dense(32))\n",
        "model.add(Activation('relu'))"
      ],
      "execution_count": null,
      "outputs": []
    },
    {
      "cell_type": "markdown",
      "metadata": {
        "id": "TGIAUYz6fhn1"
      },
      "source": [
        "#### Fully Connected Layer 3"
      ]
    },
    {
      "cell_type": "code",
      "metadata": {
        "id": "nnn8nyF7ffDf"
      },
      "source": [
        "model.add(Dense(16))\n",
        "model.add(Activation('relu'))"
      ],
      "execution_count": null,
      "outputs": []
    },
    {
      "cell_type": "markdown",
      "metadata": {
        "id": "SfsWoWJkgLW9"
      },
      "source": [
        "#### Last Fully Connected Layer "
      ]
    },
    {
      "cell_type": "code",
      "metadata": {
        "id": "vW5lIiTQfkOK"
      },
      "source": [
        "model.add(Dense(10))\n",
        "model.add(Activation('softmax'))"
      ],
      "execution_count": null,
      "outputs": []
    },
    {
      "cell_type": "markdown",
      "metadata": {
        "id": "UsZMptV0gjpa"
      },
      "source": [
        "<h3><b> Summary of Model </b> </h3>"
      ]
    },
    {
      "cell_type": "code",
      "metadata": {
        "colab": {
          "base_uri": "https://localhost:8080/"
        },
        "id": "D64ET31qgOJ2",
        "outputId": "9499df25-4035-4114-c54b-e50c98204ad4"
      },
      "source": [
        "model.summary()"
      ],
      "execution_count": null,
      "outputs": [
        {
          "output_type": "stream",
          "text": [
            "Model: \"sequential_1\"\n",
            "_________________________________________________________________\n",
            "Layer (type)                 Output Shape              Param #   \n",
            "=================================================================\n",
            "conv2d (Conv2D)              (None, 26, 26, 64)        640       \n",
            "_________________________________________________________________\n",
            "activation_3 (Activation)    (None, 26, 26, 64)        0         \n",
            "_________________________________________________________________\n",
            "dropout_2 (Dropout)          (None, 26, 26, 64)        0         \n",
            "_________________________________________________________________\n",
            "max_pooling2d (MaxPooling2D) (None, 13, 13, 64)        0         \n",
            "_________________________________________________________________\n",
            "conv2d_1 (Conv2D)            (None, 11, 11, 64)        36928     \n",
            "_________________________________________________________________\n",
            "activation_4 (Activation)    (None, 11, 11, 64)        0         \n",
            "_________________________________________________________________\n",
            "dropout_3 (Dropout)          (None, 11, 11, 64)        0         \n",
            "_________________________________________________________________\n",
            "max_pooling2d_1 (MaxPooling2 (None, 5, 5, 64)          0         \n",
            "_________________________________________________________________\n",
            "conv2d_2 (Conv2D)            (None, 3, 3, 64)          36928     \n",
            "_________________________________________________________________\n",
            "activation_5 (Activation)    (None, 3, 3, 64)          0         \n",
            "_________________________________________________________________\n",
            "dropout_4 (Dropout)          (None, 3, 3, 64)          0         \n",
            "_________________________________________________________________\n",
            "max_pooling2d_2 (MaxPooling2 (None, 1, 1, 64)          0         \n",
            "_________________________________________________________________\n",
            "flatten (Flatten)            (None, 64)                0         \n",
            "_________________________________________________________________\n",
            "dense_3 (Dense)              (None, 64)                4160      \n",
            "_________________________________________________________________\n",
            "activation_6 (Activation)    (None, 64)                0         \n",
            "_________________________________________________________________\n",
            "dense_4 (Dense)              (None, 32)                2080      \n",
            "_________________________________________________________________\n",
            "activation_7 (Activation)    (None, 32)                0         \n",
            "_________________________________________________________________\n",
            "dense_5 (Dense)              (None, 16)                528       \n",
            "_________________________________________________________________\n",
            "activation_8 (Activation)    (None, 16)                0         \n",
            "_________________________________________________________________\n",
            "dense_6 (Dense)              (None, 10)                170       \n",
            "_________________________________________________________________\n",
            "activation_9 (Activation)    (None, 10)                0         \n",
            "=================================================================\n",
            "Total params: 81,434\n",
            "Trainable params: 81,434\n",
            "Non-trainable params: 0\n",
            "_________________________________________________________________\n"
          ],
          "name": "stdout"
        }
      ]
    },
    {
      "cell_type": "markdown",
      "metadata": {
        "id": "A9IkoNfzgxb5"
      },
      "source": [
        "<h2><b>Training the model</b></h2>"
      ]
    },
    {
      "cell_type": "markdown",
      "metadata": {
        "id": "cd3-B2HBhBZO"
      },
      "source": [
        "Compiling"
      ]
    },
    {
      "cell_type": "code",
      "metadata": {
        "id": "BOK9nbuDghvA"
      },
      "source": [
        "model.compile(loss = 'sparse_categorical_crossentropy', optimizer ='adam', metrics=['accuracy'])"
      ],
      "execution_count": null,
      "outputs": []
    },
    {
      "cell_type": "markdown",
      "metadata": {
        "id": "NmJTXfTZhDgG"
      },
      "source": [
        "Training"
      ]
    },
    {
      "cell_type": "code",
      "metadata": {
        "colab": {
          "base_uri": "https://localhost:8080/"
        },
        "id": "c-iI1wFDgwaU",
        "outputId": "31e76e41-48bb-4631-cf5e-74c75998297c"
      },
      "source": [
        "history = model.fit(X_trainr, y_train, epochs = 5, validation_data= (X_trainr, y_train))"
      ],
      "execution_count": null,
      "outputs": [
        {
          "output_type": "stream",
          "text": [
            "Epoch 1/5\n",
            "1875/1875 [==============================] - 96s 51ms/step - loss: 0.7077 - accuracy: 0.7648 - val_loss: 0.1707 - val_accuracy: 0.9605\n",
            "Epoch 2/5\n",
            "1875/1875 [==============================] - 102s 54ms/step - loss: 0.1299 - accuracy: 0.9618 - val_loss: 0.1020 - val_accuracy: 0.9757\n",
            "Epoch 3/5\n",
            "1875/1875 [==============================] - 101s 54ms/step - loss: 0.0918 - accuracy: 0.9719 - val_loss: 0.0732 - val_accuracy: 0.9876\n",
            "Epoch 4/5\n",
            "1875/1875 [==============================] - 100s 54ms/step - loss: 0.0717 - accuracy: 0.9775 - val_loss: 0.0608 - val_accuracy: 0.9879\n",
            "Epoch 5/5\n",
            "1875/1875 [==============================] - 101s 54ms/step - loss: 0.0640 - accuracy: 0.9801 - val_loss: 0.0492 - val_accuracy: 0.9880\n"
          ],
          "name": "stdout"
        }
      ]
    },
    {
      "cell_type": "markdown",
      "metadata": {
        "id": "bhXz_Z9vhboN"
      },
      "source": [
        "<h3><b>Plotting the metrics</b></h3>"
      ]
    },
    {
      "cell_type": "code",
      "metadata": {
        "colab": {
          "base_uri": "https://localhost:8080/",
          "height": 1000
        },
        "id": "JJkvKOVqhMx7",
        "outputId": "4130e722-0c52-4327-b16a-ab0ece299806"
      },
      "source": [
        "fig = plt.figure()\n",
        "\n",
        "plt.subplot(2,1,1)\n",
        "plt.plot(history.history['accuracy'])\n",
        "plt.plot(history.history['val_accuracy'])\n",
        "plt.title('model accuracy')\n",
        "plt.ylabel('accuracy')\n",
        "plt.xlabel('epoch')\n",
        "plt.legend(['train','test'], loc='lower right')\n",
        "\n",
        "plt.subplot(2,1,2)\n",
        "plt.plot(history.history['loss'])\n",
        "plt.plot(history.history['val_loss'])\n",
        "plt.title('model loss')\n",
        "plt.ylabel('loss')\n",
        "plt.xlabel('epoch')\n",
        "plt.legend(['train', 'test'], loc='upper right')\n",
        "\n",
        "plt.tight_layout()"
      ],
      "execution_count": null,
      "outputs": [
        {
          "output_type": "display_data",
          "data": {
            "image/png": "[encoded data removed]",
            "text/plain": [
              "<Figure size 504x1008 with 2 Axes>"
            ]
          },
          "metadata": {
            "tags": [],
            "needs_background": "light"
          }
        }
      ]
    },
    {
      "cell_type": "markdown",
      "metadata": {
        "id": "2AmDmMH3wUNf"
      },
      "source": [
        "<h1> <b> Evaluating Model Perormance </b> </h1>"
      ]
    },
    {
      "cell_type": "code",
      "metadata": {
        "colab": {
          "base_uri": "https://localhost:8080/"
        },
        "id": "oDPzPTHQv2Fi",
        "outputId": "f6d67ce1-fd93-47b5-dff2-c4771b8b21d8"
      },
      "source": [
        "loss_and_metrics = model.evaluate(X_testr, y_test, verbose=2)"
      ],
      "execution_count": null,
      "outputs": [
        {
          "output_type": "stream",
          "text": [
            "313/313 - 4s - loss: 0.0608 - accuracy: 0.9849\n"
          ],
          "name": "stdout"
        }
      ]
    },
    {
      "cell_type": "code",
      "metadata": {
        "colab": {
          "base_uri": "https://localhost:8080/"
        },
        "id": "PFJs6obfyL_r",
        "outputId": "a58d166f-04bc-4dc3-beb8-27f1ce48f6ff"
      },
      "source": [
        "print(f'Test loss: {loss_and_metrics[0]}')\n",
        "print(f'Test Accuracy: {loss_and_metrics[1]}')"
      ],
      "execution_count": null,
      "outputs": [
        {
          "output_type": "stream",
          "text": [
            "Test loss: 0.06081494688987732\n",
            "Test Accuracy: 0.9848999977111816\n"
          ],
          "name": "stdout"
        }
      ]
    },
    {
      "cell_type": "markdown",
      "metadata": {
        "id": "Z5_iRYSnzXhU"
      },
      "source": [
        "Below we check the exact numbers of correctly classified and missclafied samples from the test data set. We also see in picture which samples are misclassified and find that the miss classified samples do have some inherent ambiguity in which number they represent due to unclear strokes."
      ]
    },
    {
      "cell_type": "code",
      "metadata": {
        "colab": {
          "base_uri": "https://localhost:8080/",
          "height": 918
        },
        "id": "R7qIorYSy0T0",
        "outputId": "b4167465-6064-486f-b997-ff1f02c4d689"
      },
      "source": [
        "# load the model and create predictions on the test set\n",
        "predicted_classes = model.predict_classes(X_testr)\n",
        "\n",
        "# see which we predicted correctly and which not\n",
        "correct_indices = np.nonzero(predicted_classes == y_test)[0]\n",
        "incorrect_indices = np.nonzero(predicted_classes != y_test)[0]\n",
        "print()\n",
        "print(len(correct_indices),\" classified correctly\")\n",
        "print(len(incorrect_indices),\" classified incorrectly\")\n",
        "\n",
        "# adapt figure size to accomodate 18 subplots\n",
        "plt.rcParams['figure.figsize'] = (7,14)\n",
        "\n",
        "figure_evaluation = plt.figure()\n",
        "\n",
        "# plot 9 correct predictions\n",
        "for i, correct in enumerate(correct_indices[:9]):\n",
        "    plt.subplot(6,3,i+1)\n",
        "    plt.imshow(X_testr[correct].reshape(28,28), cmap='gray', interpolation='none')\n",
        "    plt.title(\n",
        "      \"Predicted: {}, Truth: {}\".format(predicted_classes[correct],\n",
        "                                        y_test[correct]))\n",
        "    plt.xticks([])\n",
        "    plt.yticks([])\n",
        "\n",
        "# plot 9 incorrect predictions\n",
        "for i, incorrect in enumerate(incorrect_indices[:9]):\n",
        "    plt.subplot(6,3,i+10)\n",
        "    plt.imshow(X_testr[incorrect].reshape(28,28), cmap='gray', interpolation='none')\n",
        "    plt.title(\n",
        "      \"Predicted {}, Truth: {}\".format(predicted_classes[incorrect], \n",
        "                                       y_test[incorrect]))\n",
        "    plt.xticks([])\n",
        "    plt.yticks([])"
      ],
      "execution_count": null,
      "outputs": [
        {
          "output_type": "stream",
          "text": [
            "/usr/local/lib/python3.7/dist-packages/tensorflow/python/keras/engine/sequential.py:450: UserWarning: `model.predict_classes()` is deprecated and will be removed after 2021-01-01. Please use instead:* `np.argmax(model.predict(x), axis=-1)`,   if your model does multi-class classification   (e.g. if it uses a `softmax` last-layer activation).* `(model.predict(x) > 0.5).astype(\"int32\")`,   if your model does binary classification   (e.g. if it uses a `sigmoid` last-layer activation).\n",
            "  warnings.warn('`model.predict_classes()` is deprecated and '\n"
          ],
          "name": "stderr"
        },
        {
          "output_type": "stream",
          "text": [
            "\n",
            "9849  classified correctly\n",
            "151  classified incorrectly\n"
          ],
          "name": "stdout"
        },
        {
          "output_type": "display_data",
          "data": {
            "image/png": "[encoded data removed]",
            "text/plain": [
              "<Figure size 504x1008 with 18 Axes>"
            ]
          },
          "metadata": {
            "tags": []
          }
        }
      ]
    },
    {
      "cell_type": "markdown",
      "metadata": {
        "id": "VEL91-eJJz-E"
      },
      "source": [
        "<br><br><br>\n",
        "<h1><b>3. Classification using  Support Vector Machines</b></h1>"
      ]
    },
    {
      "cell_type": "code",
      "metadata": {
        "id": "UcJRIhp5J46Y"
      },
      "source": [
        "(X_train, y_train), (X_test, y_test) = mnist.load_data()"
      ],
      "execution_count": null,
      "outputs": []
    },
    {
      "cell_type": "code",
      "metadata": {
        "id": "Me0nHljmQjaI"
      },
      "source": [
        "#reshaping the data feature size from 28x28 to single vector of size 784\n",
        "X_train = X_train.reshape(60000,784)\n",
        "X_test = X_test.reshape(10000,784)\n",
        "X_train = X_train.astype('float32')\n",
        "X_test = X_test.astype('float32')"
      ],
      "execution_count": null,
      "outputs": []
    },
    {
      "cell_type": "code",
      "metadata": {
        "id": "zWBEFkAwKI5W",
        "colab": {
          "base_uri": "https://localhost:8080/"
        },
        "outputId": "100a52cd-272a-4509-c197-555cc1ca5c63"
      },
      "source": [
        "## Normalization\n",
        "\n",
        "X_train = X_train/255.0\n",
        "X_test= X_test/255.0\n",
        "\n",
        "print(\"Train_Data:\", X_train.shape)\n",
        "print(\"Test_Data:\",X_test.shape)"
      ],
      "execution_count": null,
      "outputs": [
        {
          "output_type": "stream",
          "text": [
            "Train_Data: (60000, 784)\n",
            "Test_Data: (10000, 784)\n"
          ],
          "name": "stdout"
        }
      ]
    },
    {
      "cell_type": "code",
      "metadata": {
        "id": "owJF4cvrQ1YU"
      },
      "source": [
        "from sklearn import preprocessing\n",
        "# Create the Scaler object\n",
        "scaler = preprocessing.StandardScaler()\n",
        "# Fit your data on the scaler object\n",
        "scaled_X_train = scaler.fit_transform(X_train)\n",
        "scaled_X_test = scaler.fit_transform(X_test)"
      ],
      "execution_count": null,
      "outputs": []
    },
    {
      "cell_type": "markdown",
      "metadata": {
        "id": "o4DO2idSR0Km"
      },
      "source": [
        "<h3><b>SVM LINEAR KERNEL MODEL BUILDING</b></h3>"
      ]
    },
    {
      "cell_type": "code",
      "metadata": {
        "id": "_ksa9exmPuu-"
      },
      "source": [
        "# linear model\n",
        "from sklearn.svm import SVC\n",
        "model_linear = SVC(kernel='linear')\n",
        "model_linear.fit(scaled_X_train, y_train)\n",
        "\n",
        "# predict\n",
        "y_pred = model_linear.predict(scaled_X_test)"
      ],
      "execution_count": null,
      "outputs": []
    },
    {
      "cell_type": "code",
      "metadata": {
        "colab": {
          "base_uri": "https://localhost:8080/"
        },
        "id": "E8hakfVdUCDM",
        "outputId": "ae246925-b357-4682-8a92-dff8925d91e3"
      },
      "source": [
        "# confusion matrix and accuracy\n",
        "\n",
        "from sklearn import metrics\n",
        "from sklearn.metrics import confusion_matrix\n",
        "# accuracy\n",
        "print(\"accuracy:\", metrics.accuracy_score(y_true=y_test, y_pred=y_pred), \"\\n\")\n",
        "\n",
        "# cm\n",
        "print(metrics.confusion_matrix(y_true=y_test, y_pred=y_pred))"
      ],
      "execution_count": null,
      "outputs": [
        {
          "output_type": "stream",
          "text": [
            "accuracy: 0.9281 \n",
            "\n",
            "[[ 953    0    6    2    1    8    6    2    1    1]\n",
            " [   0 1118    7    2    0    1    2    1    4    0]\n",
            " [   9   12  956   11    9    4    5    5   18    3]\n",
            " [   7    1   15  940    0   17    1    6   19    4]\n",
            " [   3    2   18    1  928    0    3    6    3   18]\n",
            " [   7    6    7   40    5  791   12    1   20    3]\n",
            " [  14    3   17    1    9   19  892    0    3    0]\n",
            " [   2    8   23   14   11    2    0  945    2   21]\n",
            " [  11    7   10   29    8   23    8    6  860   12]\n",
            " [   9    7    6   11   38    5    0   23   12  898]]\n"
          ],
          "name": "stdout"
        }
      ]
    },
    {
      "cell_type": "markdown",
      "metadata": {
        "id": "oPn452luU4iq"
      },
      "source": [
        "<h3><b>SVM RBF KERNEL MODEL BUILDING</b></h3>"
      ]
    },
    {
      "cell_type": "code",
      "metadata": {
        "id": "0TmJjyyTUzPe"
      },
      "source": [
        "# non-linear model\n",
        "# using rbf kernel, C=1, default value of gamma\n",
        "\n",
        "# model\n",
        "non_linear_model = SVC(kernel='rbf')\n",
        "\n",
        "# fit\n",
        "non_linear_model.fit(scaled_X_train, y_train)\n",
        "\n",
        "# predict\n",
        "y_pred = non_linear_model.predict(scaled_X_test)"
      ],
      "execution_count": null,
      "outputs": []
    },
    {
      "cell_type": "code",
      "metadata": {
        "colab": {
          "base_uri": "https://localhost:8080/"
        },
        "id": "7Q6ua6txZPRZ",
        "outputId": "3f6e30f2-d6d5-409a-91f6-055afe17e214"
      },
      "source": [
        "# confusion matrix and accuracy\n",
        "\n",
        "# accuracy\n",
        "print(\"accuracy:\", metrics.accuracy_score(y_true=y_test, y_pred=y_pred), \"\\n\")\n",
        "\n",
        "# cm\n",
        "print(metrics.confusion_matrix(y_true=y_test, y_pred=y_pred))"
      ],
      "execution_count": null,
      "outputs": [
        {
          "output_type": "stream",
          "text": [
            "accuracy: 0.9656 \n",
            "\n",
            "[[ 967    0    2    1    0    3    3    2    2    0]\n",
            " [   0 1125    5    0    0    1    2    0    2    0]\n",
            " [   5    1  996    2    2    0    1   15    9    1]\n",
            " [   0    0    3  980    1    7    0   12    7    0]\n",
            " [   0    0   13    0  945    2    3    7    2   10]\n",
            " [   2    0    2   11    1  857    6    5    6    2]\n",
            " [   6    2    0    0    4    8  927    6    5    0]\n",
            " [   1    6   13    3    3    0    0  989    0   13]\n",
            " [   3    0    6    5    6   10    3   12  926    3]\n",
            " [   4    5    6   11   13    2    0   21    3  944]]\n"
          ],
          "name": "stdout"
        }
      ]
    }
  ]
}